{
 "cells": [
  {
   "cell_type": "code",
   "execution_count": null,
   "id": "7dbba6b7",
   "metadata": {},
   "outputs": [],
   "source": [
    "QUES NO 20"
   ]
  },
  {
   "cell_type": "code",
   "execution_count": null,
   "id": "e3475162",
   "metadata": {},
   "outputs": [],
   "source": [
    "Write a function called 'perform_hypothesis_test' that takes two list of arguements as list of numbers as input, representing two samples.\n",
    "The function should perform a two sample t test and return the p value .\n",
    "Use the 'scipy.stats' module in python to calculate the t test and the p value"
   ]
  },
  {
   "cell_type": "code",
   "execution_count": 21,
   "id": "0ca52ee0",
   "metadata": {},
   "outputs": [],
   "source": [
    "## Importing lib\n",
    "from scipy import stats\n",
    "\n",
    "## def func\n",
    "def perform_hypothesis_test(first_sam, sec_sam):\n",
    "    t_statistic,p_value =stats.ttest_ind(first_sam, sec_sam)\n",
    "    return p_value"
   ]
  },
  {
   "cell_type": "code",
   "execution_count": 28,
   "id": "c8051f5e",
   "metadata": {},
   "outputs": [
    {
     "name": "stdout",
     "output_type": "stream",
     "text": [
      "Enter number of elements : 5\n",
      "\n",
      "Enter the Sample List : 5 10 15 20 25\n",
      "\n",
      " The Entered Sample List is -  [5, 10, 15, 20, 25]\n"
     ]
    }
   ],
   "source": [
    "#  input number of elements\n",
    "n = int(input(\"Enter number of elements : \"))\n",
    "\n",
    "# read inputs from user using map() function\n",
    "\n",
    "first_sam = list(map(int,input(\"\\nEnter the Sample List : \").strip().split()))[:n]\n",
    " \n",
    "print(\"\\n The Entered Sample List is - \", first_sam)"
   ]
  },
  {
   "cell_type": "code",
   "execution_count": 29,
   "id": "d1525ce8",
   "metadata": {},
   "outputs": [
    {
     "name": "stdout",
     "output_type": "stream",
     "text": [
      "Enter number of elements : 5\n",
      "\n",
      "Enter the Sample List : 10 20 30 40 50\n",
      "\n",
      " The Entered Sample List is -  [10, 20, 30, 40, 50]\n"
     ]
    }
   ],
   "source": [
    "#  input number of elements\n",
    "n = int(input(\"Enter number of elements : \"))\n",
    "\n",
    "# read inputs from user using map() function\n",
    "sec_sam = list(map(int,\n",
    "    input(\"\\nEnter the Sample List : \").strip().split()))[:n]\n",
    " \n",
    "print(\"\\n The Entered Sample List is - \", sec_sam)"
   ]
  },
  {
   "cell_type": "code",
   "execution_count": 30,
   "id": "69e460ac",
   "metadata": {},
   "outputs": [
    {
     "name": "stdout",
     "output_type": "stream",
     "text": [
      "p_value is: 0.09434977284243756\n"
     ]
    }
   ],
   "source": [
    "p_value =perform_hypothesis_test(first_sam, sec_sam)\n",
    "print(\"p_value is:\",p_value)"
   ]
  },
  {
   "cell_type": "code",
   "execution_count": null,
   "id": "d293e82e",
   "metadata": {},
   "outputs": [],
   "source": []
  }
 ],
 "metadata": {
  "kernelspec": {
   "display_name": "Python 3",
   "language": "python",
   "name": "python3"
  },
  "language_info": {
   "codemirror_mode": {
    "name": "ipython",
    "version": 3
   },
   "file_extension": ".py",
   "mimetype": "text/x-python",
   "name": "python",
   "nbconvert_exporter": "python",
   "pygments_lexer": "ipython3",
   "version": "3.8.8"
  }
 },
 "nbformat": 4,
 "nbformat_minor": 5
}
