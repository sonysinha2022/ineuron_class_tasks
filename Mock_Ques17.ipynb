{
 "cells": [
  {
   "cell_type": "code",
   "execution_count": null,
   "id": "7dbba6b7",
   "metadata": {},
   "outputs": [],
   "source": [
    "QUES NO 17"
   ]
  },
  {
   "cell_type": "code",
   "execution_count": null,
   "id": "18dae56f",
   "metadata": {},
   "outputs": [],
   "source": [
    "write a function that takes a list of numbers as input and returns a list containing only even numbers using list comprehension"
   ]
  },
  {
   "cell_type": "code",
   "execution_count": 1,
   "id": "c570428d",
   "metadata": {},
   "outputs": [
    {
     "name": "stdout",
     "output_type": "stream",
     "text": [
      "Enter number of elements : 6\n",
      "\n",
      "Enter the Numbers : 45  67 88 44 22 89\n",
      "\n",
      " The Entered List is -  [45, 67, 88, 44, 22, 89]\n",
      "\n",
      " The Even elements in List is -  [88, 44, 22]\n"
     ]
    }
   ],
   "source": [
    "#  input number of elements\n",
    "n = int(input(\"Enter number of elements : \"))\n",
    " \n",
    "# read inputs from user using map() function\n",
    "a = list(map(int,input(\"\\nEnter the Numbers : \").strip().split()))[:n]\n",
    " \n",
    "print(\"\\n The Entered List is - \", a)\n",
    "\n",
    "print(\"\\n The Even elements in List is - \",([i for i in a if (i % 2 == 0)]))"
   ]
  },
  {
   "cell_type": "code",
   "execution_count": null,
   "id": "2fa586c2",
   "metadata": {},
   "outputs": [],
   "source": []
  }
 ],
 "metadata": {
  "kernelspec": {
   "display_name": "Python 3",
   "language": "python",
   "name": "python3"
  },
  "language_info": {
   "codemirror_mode": {
    "name": "ipython",
    "version": 3
   },
   "file_extension": ".py",
   "mimetype": "text/x-python",
   "name": "python",
   "nbconvert_exporter": "python",
   "pygments_lexer": "ipython3",
   "version": "3.8.8"
  }
 },
 "nbformat": 4,
 "nbformat_minor": 5
}
