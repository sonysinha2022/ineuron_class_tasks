{
 "cells": [
  {
   "cell_type": "code",
   "execution_count": null,
   "id": "7dbba6b7",
   "metadata": {},
   "outputs": [],
   "source": [
    "QUES NO 18"
   ]
  },
  {
   "cell_type": "code",
   "execution_count": null,
   "id": "6a9c6969",
   "metadata": {},
   "outputs": [],
   "source": [
    "Implement a decorator function called timer that measures the execution time of a function .The timer decorator should print the time taken by the \n",
    "decorated function to execute. Use the time module in python to calculate the excecution time "
   ]
  },
  {
   "cell_type": "code",
   "execution_count": 9,
   "id": "969bb67f",
   "metadata": {},
   "outputs": [],
   "source": [
    "from functools import wraps\n",
    "import time\n",
    "\n",
    "def timer(func):\n",
    "    @wraps(func)\n",
    "    def wrapper(a, b):\n",
    "        start_time = time.time();\n",
    "        addval = func(a, b)\n",
    "        print(\"The execution time of a function is \", time.time()-start_time, \"secs\")\n",
    "        return addval\n",
    "    return wrapper"
   ]
  },
  {
   "cell_type": "code",
   "execution_count": 10,
   "id": "1fa87124",
   "metadata": {},
   "outputs": [],
   "source": [
    "@timer\n",
    "def add_func(a, b):\n",
    "    addval = a+b\n",
    "    return addval"
   ]
  },
  {
   "cell_type": "code",
   "execution_count": 11,
   "id": "e73bd644",
   "metadata": {},
   "outputs": [
    {
     "name": "stdout",
     "output_type": "stream",
     "text": [
      "The execution time of a function is  0.0 secs\n"
     ]
    },
    {
     "data": {
      "text/plain": [
       "1000"
      ]
     },
     "execution_count": 11,
     "metadata": {},
     "output_type": "execute_result"
    }
   ],
   "source": [
    "## Calling Func\n",
    "add_func(550, 450)"
   ]
  },
  {
   "cell_type": "code",
   "execution_count": null,
   "id": "9f71ab1d",
   "metadata": {},
   "outputs": [],
   "source": []
  }
 ],
 "metadata": {
  "kernelspec": {
   "display_name": "Python 3",
   "language": "python",
   "name": "python3"
  },
  "language_info": {
   "codemirror_mode": {
    "name": "ipython",
    "version": 3
   },
   "file_extension": ".py",
   "mimetype": "text/x-python",
   "name": "python",
   "nbconvert_exporter": "python",
   "pygments_lexer": "ipython3",
   "version": "3.8.8"
  }
 },
 "nbformat": 4,
 "nbformat_minor": 5
}
