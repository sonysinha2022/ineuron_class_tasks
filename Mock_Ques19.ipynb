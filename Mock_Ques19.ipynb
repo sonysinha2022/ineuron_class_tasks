{
 "cells": [
  {
   "cell_type": "code",
   "execution_count": null,
   "id": "7dbba6b7",
   "metadata": {},
   "outputs": [],
   "source": [
    "QUES NO 19"
   ]
  },
  {
   "cell_type": "code",
   "execution_count": null,
   "id": "69b014f7",
   "metadata": {},
   "outputs": [],
   "source": [
    "Write a function called 'calculate mean' that takes a list of numbers as input and returns the average of the numbers .\n",
    "the function should calculate the mean using the sum of the numbers divided by the total count."
   ]
  },
  {
   "cell_type": "code",
   "execution_count": 15,
   "id": "173c4617",
   "metadata": {},
   "outputs": [],
   "source": [
    "## def func\n",
    "def calculate_mean(integers):\n",
    "    totalsum =sum(integers)\n",
    "    count=len(integers)\n",
    "    mean =totalsum/count\n",
    "    return mean"
   ]
  },
  {
   "cell_type": "code",
   "execution_count": 18,
   "id": "f0878cd6",
   "metadata": {},
   "outputs": [
    {
     "name": "stdout",
     "output_type": "stream",
     "text": [
      "Enter number of elements : 4\n",
      "\n",
      "Enter the integers : 56 89 98 79\n",
      "\n",
      " The Entered List is -  [56, 89, 98, 79]\n"
     ]
    }
   ],
   "source": [
    "# number of elements\n",
    "n = int(input(\"Enter number of elements : \"))\n",
    " \n",
    "# read inputs from user using map() function\n",
    "integers = list(map(int,input(\"\\nEnter the integers : \").strip().split()))[:n]\n",
    " \n",
    "print(\"\\n The Entered List is - \", integers)"
   ]
  },
  {
   "cell_type": "code",
   "execution_count": 19,
   "id": "408a9e08",
   "metadata": {},
   "outputs": [
    {
     "name": "stdout",
     "output_type": "stream",
     "text": [
      "Average value of the list with precision upto 3 decimal value: 80.5\n"
     ]
    }
   ],
   "source": [
    "## Calling func\n",
    "mean =calculate_mean(integers)\n",
    "print(\"Average value of the list with precision upto 3 decimal value:\",round(mean,3))"
   ]
  },
  {
   "cell_type": "code",
   "execution_count": null,
   "id": "8691cbe5",
   "metadata": {},
   "outputs": [],
   "source": []
  },
  {
   "cell_type": "code",
   "execution_count": null,
   "id": "665a3fbd",
   "metadata": {},
   "outputs": [],
   "source": []
  }
 ],
 "metadata": {
  "kernelspec": {
   "display_name": "Python 3",
   "language": "python",
   "name": "python3"
  },
  "language_info": {
   "codemirror_mode": {
    "name": "ipython",
    "version": 3
   },
   "file_extension": ".py",
   "mimetype": "text/x-python",
   "name": "python",
   "nbconvert_exporter": "python",
   "pygments_lexer": "ipython3",
   "version": "3.8.8"
  }
 },
 "nbformat": 4,
 "nbformat_minor": 5
}
