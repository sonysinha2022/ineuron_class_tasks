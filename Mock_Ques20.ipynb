{
 "cells": [
  {
   "cell_type": "code",
   "execution_count": null,
   "id": "7dbba6b7",
   "metadata": {},
   "outputs": [],
   "source": [
    "QUES NO 20"
   ]
  },
  {
   "cell_type": "code",
   "execution_count": null,
   "id": "9f1f06c6",
   "metadata": {},
   "outputs": [],
   "source": [
    "Write a function called 'perform_hypothesis_test' that takes two list of arguements as list of numbers as input, representing two samples.\n",
    "The function should perform a two sample t test and return the p value .\n",
    "Use the 'scipy.stats' module in python to calculate the t test and the p value"
   ]
  },
  {
   "cell_type": "code",
   "execution_count": 21,
   "id": "dbc6ee61",
   "metadata": {},
   "outputs": [],
   "source": [
    "## Importing lib\n",
    "from scipy import stats\n",
    "\n",
    "## def func\n",
    "def perform_hypothesis_test(first_sam, sec_sam):\n",
    "    t_statistic,p_value =stats.ttest_ind(first_sam, sec_sam)\n",
    "    return p_value"
   ]
  },
  {
   "cell_type": "code",
   "execution_count": 25,
   "id": "3775b2da",
   "metadata": {},
   "outputs": [
    {
     "name": "stdout",
     "output_type": "stream",
     "text": [
      "Enter number of elements : 5\n",
      "\n",
      "Enter the Sample List : 12 14 16 7 9\n",
      "\n",
      " The Entered Sample List is -  [12, 14, 16, 7, 9]\n"
     ]
    }
   ],
   "source": [
    "#  input number of elements\n",
    "n = int(input(\"Enter number of elements : \"))\n",
    "\n",
    "# read inputs from user using map() function\n",
    "\n",
    "first_sam = list(map(int,input(\"\\nEnter the Sample List : \").strip().split()))[:n]\n",
    " \n",
    "print(\"\\n The Entered Sample List is - \", first_sam)"
   ]
  },
  {
   "cell_type": "code",
   "execution_count": 26,
   "id": "2885e911",
   "metadata": {},
   "outputs": [
    {
     "name": "stdout",
     "output_type": "stream",
     "text": [
      "Enter number of elements : 5\n",
      "\n",
      "Enter the Sample List : 2 5 8 19 17\n",
      "\n",
      " The Entered Sample List is -  [2, 5, 8, 19, 17]\n"
     ]
    }
   ],
   "source": [
    "#  input number of elements\n",
    "n = int(input(\"Enter number of elements : \"))\n",
    "\n",
    "# read inputs from user using map() function\n",
    "sec_sam = list(map(int,\n",
    "    input(\"\\nEnter the Sample List : \").strip().split()))[:n]\n",
    " \n",
    "print(\"\\n The Entered Sample List is - \", sec_sam)"
   ]
  },
  {
   "cell_type": "code",
   "execution_count": 27,
   "id": "079ff7ba",
   "metadata": {},
   "outputs": [
    {
     "name": "stdout",
     "output_type": "stream",
     "text": [
      "p_value is: 0.7160721909819633\n"
     ]
    }
   ],
   "source": [
    "p_value =perform_hypothesis_test(first_sam, sec_sam)\n",
    "print(\"p_value is:\",p_value)"
   ]
  },
  {
   "cell_type": "code",
   "execution_count": null,
   "id": "f18f414e",
   "metadata": {},
   "outputs": [],
   "source": []
  }
 ],
 "metadata": {
  "kernelspec": {
   "display_name": "Python 3",
   "language": "python",
   "name": "python3"
  },
  "language_info": {
   "codemirror_mode": {
    "name": "ipython",
    "version": 3
   },
   "file_extension": ".py",
   "mimetype": "text/x-python",
   "name": "python",
   "nbconvert_exporter": "python",
   "pygments_lexer": "ipython3",
   "version": "3.8.8"
  }
 },
 "nbformat": 4,
 "nbformat_minor": 5
}
