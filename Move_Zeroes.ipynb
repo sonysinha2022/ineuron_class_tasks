{
 "cells": [
  {
   "cell_type": "code",
   "execution_count": null,
   "id": "52f1bdf4",
   "metadata": {},
   "outputs": [],
   "source": [
    "Move Zeroes\n",
    "Given an integer array nums, move all 0's to the end of it while maintaining the relative order of the non-zero elements.\n",
    "\n",
    "Note that you must do this in-place without making a copy of the array.\n",
    "\n",
    "Example 1:\n",
    "Input: nums = [0,1,0,3,12]\n",
    "Output: [1,3,12,0,0]\n",
    "\n",
    "Example 2:\n",
    "Input: nums = [0]\n",
    "Output: [0]\n",
    "\n",
    "Constraints:\n",
    "a. 1 <= nums.length <= 10^4\n",
    "b. -2^31 <= nums[i] <= 2^31 - 1\n",
    "\n",
    "Note: Create a GitHub file for the solution and add the file link the the answer section below."
   ]
  },
  {
   "cell_type": "code",
   "execution_count": 11,
   "id": "cf054b57",
   "metadata": {},
   "outputs": [
    {
     "name": "stdout",
     "output_type": "stream",
     "text": [
      "[1, 3, 12, 0, 0]\n"
     ]
    }
   ],
   "source": [
    "def movezeroes(zeroes):\n",
    "    beginn = 0\n",
    "    endd = 0\n",
    "\n",
    "    # Move non-zero elements to the beginning\n",
    "    while endd < len(zeroes):\n",
    "        if zeroes[endd] != 0:\n",
    "            zeroes[beginn] = zeroes[endd]\n",
    "            beginn += 1\n",
    "        endd += 1\n",
    "\n",
    "    while beginn < len(zeroes):\n",
    "        zeroes[beginn] = 0\n",
    "        beginn += 1\n",
    "\n",
    "    return zeroes\n",
    "\n",
    "zeroes = [0, 1, 0, 3, 12]\n",
    "result = movezeroes(zeroes)\n",
    "print(result)"
   ]
  },
  {
   "cell_type": "code",
   "execution_count": null,
   "id": "73adbbe8",
   "metadata": {},
   "outputs": [],
   "source": []
  }
 ],
 "metadata": {
  "kernelspec": {
   "display_name": "Python 3",
   "language": "python",
   "name": "python3"
  },
  "language_info": {
   "codemirror_mode": {
    "name": "ipython",
    "version": 3
   },
   "file_extension": ".py",
   "mimetype": "text/x-python",
   "name": "python",
   "nbconvert_exporter": "python",
   "pygments_lexer": "ipython3",
   "version": "3.10.6"
  }
 },
 "nbformat": 4,
 "nbformat_minor": 5
}
