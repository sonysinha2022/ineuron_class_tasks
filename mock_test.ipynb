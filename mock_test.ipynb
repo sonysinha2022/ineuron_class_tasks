{
 "cells": [
  {
   "cell_type": "code",
   "execution_count": null,
   "id": "f15369a5",
   "metadata": {},
   "outputs": [],
   "source": [
    "QUES NO 17"
   ]
  },
  {
   "cell_type": "code",
   "execution_count": null,
   "id": "f10292e2",
   "metadata": {},
   "outputs": [],
   "source": [
    "write a function that takes a list of numbers as input and returns a list containing only even numbers using list comprehension"
   ]
  },
  {
   "cell_type": "code",
   "execution_count": null,
   "id": "22256a85",
   "metadata": {},
   "outputs": [],
   "source": [
    "List Comprehension :uses for loop to iterate each element in list and check if the iterated value is divisible by 2 using if condition. \n",
    "                    It will return the values that matches the condition. "
   ]
  },
  {
   "cell_type": "code",
   "execution_count": 4,
   "id": "3cc3e9c2",
   "metadata": {},
   "outputs": [
    {
     "name": "stdout",
     "output_type": "stream",
     "text": [
      "Enter number of elements : 6\n",
      "\n",
      "Enter the numbers : 45  67 88 44 22 89\n",
      "\n",
      " The Entered List is -  [45, 67, 88, 44, 22, 89]\n",
      "\n",
      " The Even elements in List is -  [88, 44, 22]\n"
     ]
    }
   ],
   "source": [
    "#  input number of elements\n",
    "n = int(input(\"Enter number of elements : \"))\n",
    " \n",
    "# read inputs from user using map() function\n",
    "a = list(map(int,input(\"\\nEnter the numbers : \").strip().split()))[:n]\n",
    " \n",
    "print(\"\\n The Entered List is - \", a)\n",
    "\n",
    "print(\"\\n The Even elements in List is - \",([i for i in a if (i % 2 == 0)]))"
   ]
  },
  {
   "cell_type": "code",
   "execution_count": null,
   "id": "6ef96d9d",
   "metadata": {},
   "outputs": [],
   "source": [
    "QUES NO 18"
   ]
  },
  {
   "cell_type": "code",
   "execution_count": null,
   "id": "8da7c9bf",
   "metadata": {},
   "outputs": [],
   "source": [
    "Implement a decorator function called timer that measures the execution time of a function .The timer decorator should print the time taken by the \n",
    "decorated function to execute. Use the time module in python to calculate the excecution time "
   ]
  },
  {
   "cell_type": "code",
   "execution_count": 13,
   "id": "d0ef5636",
   "metadata": {},
   "outputs": [],
   "source": [
    "from functools import wraps\n",
    "import time\n",
    "\n",
    "def timer(func):\n",
    "    @wraps(func)\n",
    "    def wrapper(a, b):\n",
    "        start_time = time.time();\n",
    "        addval = func(a, b)\n",
    "        print(\"The execution time of a function is \", time.time()-start_time, \"secs\")\n",
    "        return addval\n",
    "    return wrapper"
   ]
  },
  {
   "cell_type": "code",
   "execution_count": 14,
   "id": "2251645c",
   "metadata": {},
   "outputs": [],
   "source": [
    "@timer\n",
    "def add_func(a, b):\n",
    "    addval = a+b\n",
    "    return addval"
   ]
  },
  {
   "cell_type": "code",
   "execution_count": 16,
   "id": "855fed80",
   "metadata": {},
   "outputs": [
    {
     "name": "stdout",
     "output_type": "stream",
     "text": [
      "The execution time of a function is  0.0 secs\n"
     ]
    },
    {
     "data": {
      "text/plain": [
       "1000"
      ]
     },
     "execution_count": 16,
     "metadata": {},
     "output_type": "execute_result"
    }
   ],
   "source": [
    "## Calling Func\n",
    "add_func(550, 450)"
   ]
  },
  {
   "cell_type": "code",
   "execution_count": null,
   "id": "bd257d1a",
   "metadata": {},
   "outputs": [],
   "source": [
    "QUES 19 "
   ]
  },
  {
   "cell_type": "code",
   "execution_count": null,
   "id": "dc233082",
   "metadata": {},
   "outputs": [],
   "source": [
    "Write a function called 'calculate mean' that takes a list of numbers as input and returns the average of the numbers .\n",
    "the function should calculate the mean using the sum of the numbers divided by the total count."
   ]
  },
  {
   "cell_type": "code",
   "execution_count": 23,
   "id": "8a3cd9d7",
   "metadata": {},
   "outputs": [],
   "source": [
    "## def func\n",
    "def calculate_mean(integers):\n",
    "    totalsum =sum(integers)\n",
    "    count=len(integers)\n",
    "    mean =totalsum/count\n",
    "    return mean"
   ]
  },
  {
   "cell_type": "code",
   "execution_count": 24,
   "id": "29eb37f9",
   "metadata": {},
   "outputs": [
    {
     "name": "stdout",
     "output_type": "stream",
     "text": [
      "Enter number of elements : 4\n",
      "\n",
      "Enter the integers : 56 89 98 79\n",
      "\n",
      " The Entered List is -  [56, 89, 98, 79]\n"
     ]
    }
   ],
   "source": [
    "# number of elements\n",
    "n = int(input(\"Enter number of elements : \"))\n",
    " \n",
    "# read inputs from user using map() function\n",
    "integers = list(map(int,input(\"\\nEnter the integers : \").strip().split()))[:n]\n",
    " \n",
    "print(\"\\n The Entered List is - \", integers)"
   ]
  },
  {
   "cell_type": "code",
   "execution_count": 25,
   "id": "ac28e44d",
   "metadata": {},
   "outputs": [
    {
     "name": "stdout",
     "output_type": "stream",
     "text": [
      "Average value of the list with precision upto 3 decimal value: 80.5\n"
     ]
    }
   ],
   "source": [
    "## Calling func\n",
    "mean =calculate_mean(integers)\n",
    "print(\"Average value of the list with precision upto 3 decimal value:\",round(mean,3))"
   ]
  },
  {
   "cell_type": "code",
   "execution_count": null,
   "id": "21d1a350",
   "metadata": {},
   "outputs": [],
   "source": [
    "QUES 20"
   ]
  },
  {
   "cell_type": "code",
   "execution_count": null,
   "id": "d8da4345",
   "metadata": {},
   "outputs": [],
   "source": [
    "Write a function called 'perform_hypothesis_test' that takes two list of arguements as list of numbers as input, representing two samples.\n",
    "The function should perform a two sample t test and return the p value .\n",
    "Use the 'scipy.stats' module in python to calculate the t test and the p value"
   ]
  },
  {
   "cell_type": "code",
   "execution_count": 9,
   "id": "83970e7c",
   "metadata": {},
   "outputs": [],
   "source": [
    "## Importing lib\n",
    "from scipy import stats\n",
    "\n",
    "## def func\n",
    "def perform_hypothesis_test(first_sam, sec_sam):\n",
    "    t_statistic,p_value =stats.ttest_ind(first_sam, sec_sam)\n",
    "    return p_value"
   ]
  },
  {
   "cell_type": "code",
   "execution_count": 11,
   "id": "abbc78a4",
   "metadata": {},
   "outputs": [
    {
     "name": "stdout",
     "output_type": "stream",
     "text": [
      "Enter number of elements : 5\n",
      "\n",
      "Enter the Sample List : 12 14 16 7 9\n",
      "\n",
      " The Entered Sample List is -  [12, 14, 16, 7, 9]\n"
     ]
    }
   ],
   "source": [
    "#  input number of elements\n",
    "n = int(input(\"Enter number of elements : \"))\n",
    "\n",
    "# read inputs from user using map() function\n",
    "\n",
    "first_sam = list(map(int,input(\"\\nEnter the Sample List : \").strip().split()))[:n]\n",
    " \n",
    "print(\"\\n The Entered Sample List is - \", first_sam)"
   ]
  },
  {
   "cell_type": "code",
   "execution_count": 12,
   "id": "f4a89859",
   "metadata": {},
   "outputs": [
    {
     "name": "stdout",
     "output_type": "stream",
     "text": [
      "Enter number of elements : 5\n",
      "\n",
      "Enter the Sample List : 2 5 8 19 17\n",
      "\n",
      " The Entered Sample List is -  [2, 5, 8, 19, 17]\n"
     ]
    }
   ],
   "source": [
    "#  input number of elements\n",
    "n = int(input(\"Enter number of elements : \"))\n",
    "\n",
    "# read inputs from user using map() function\n",
    "sec_sam = list(map(int,\n",
    "    input(\"\\nEnter the Sample List : \").strip().split()))[:n]\n",
    " \n",
    "print(\"\\n The Entered Sample List is - \", sec_sam)"
   ]
  },
  {
   "cell_type": "code",
   "execution_count": 13,
   "id": "24158a08",
   "metadata": {},
   "outputs": [
    {
     "name": "stdout",
     "output_type": "stream",
     "text": [
      "p_value is: 0.7160721909819633\n"
     ]
    }
   ],
   "source": [
    "p_value =perform_hypothesis_test(first_sam, sec_sam)\n",
    "print(\"p_value is:\",p_value)"
   ]
  },
  {
   "cell_type": "code",
   "execution_count": null,
   "id": "b7ebf137",
   "metadata": {},
   "outputs": [],
   "source": []
  }
 ],
 "metadata": {
  "kernelspec": {
   "display_name": "Python 3",
   "language": "python",
   "name": "python3"
  },
  "language_info": {
   "codemirror_mode": {
    "name": "ipython",
    "version": 3
   },
   "file_extension": ".py",
   "mimetype": "text/x-python",
   "name": "python",
   "nbconvert_exporter": "python",
   "pygments_lexer": "ipython3",
   "version": "3.8.8"
  }
 },
 "nbformat": 4,
 "nbformat_minor": 5
}
