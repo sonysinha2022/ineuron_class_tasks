{
 "cells": [
  {
   "cell_type": "code",
   "execution_count": null,
   "id": "aedb35fb",
   "metadata": {},
   "outputs": [],
   "source": [
    "Subject : Introduction to Python\n",
    "          Assignment 3"
   ]
  },
  {
   "cell_type": "code",
   "execution_count": null,
   "id": "57ecabb2",
   "metadata": {},
   "outputs": [],
   "source": [
    "Submitted by:\n",
    "                    Sony Sinha\n",
    "                    MBA -IT , 4th Sem \n",
    "                    Roll no 629 \n",
    "                    Second Year\n",
    "                    Software Development"
   ]
  },
  {
   "cell_type": "markdown",
   "id": "d8d2d292",
   "metadata": {},
   "source": [
    "# Exercise 3.7 "
   ]
  },
  {
   "cell_type": "code",
   "execution_count": null,
   "id": "8ff8fe01",
   "metadata": {},
   "outputs": [],
   "source": [
    "Mutable : An object is considered mutable if its state or value can be modified after it is created.\n",
    "        This means that we can alter its internal data or attributes without creating a new object. \n",
    "        Examples of mutable objects in Python include lists, dictionaries, and sets. \n",
    "        If we modify a mutable object, any references to that object will reflect the changes."
   ]
  },
  {
   "cell_type": "code",
   "execution_count": null,
   "id": "55606097",
   "metadata": {},
   "outputs": [],
   "source": [
    "Immutable: Immutable is the when no change is possible over time. \n",
    "           In Python, if the value of an object cannot be changed over time, then it is known as immutable. \n",
    "           Once created, the value of these objects is permanent.\n",
    "            Tuple is immutable"
   ]
  },
  {
   "cell_type": "markdown",
   "id": "d69a1dd5",
   "metadata": {},
   "source": [
    "# Exercise 3.8"
   ]
  },
  {
   "cell_type": "code",
   "execution_count": null,
   "id": "b1a5619e",
   "metadata": {},
   "outputs": [],
   "source": [
    "Write a negate function that takes a number and returns the negation of that number. Also write a large_num function\n",
    "that takes a number and returns True if that number is bigger than 10000 and False otherwise"
   ]
  },
  {
   "cell_type": "code",
   "execution_count": 4,
   "id": "e90ed7a9",
   "metadata": {},
   "outputs": [
    {
     "name": "stdout",
     "output_type": "stream",
     "text": [
      "-5\n"
     ]
    }
   ],
   "source": [
    "def negate(number):\n",
    "    return -number\n",
    "\n",
    "def large_num(number):\n",
    "    if number > 10000:\n",
    "        return True\n",
    "    else:\n",
    "        return False\n",
    "\n",
    "num = 5\n",
    "negated_num = negate(num)\n",
    "print(negated_num)"
   ]
  },
  {
   "cell_type": "code",
   "execution_count": 5,
   "id": "fbcbf883",
   "metadata": {},
   "outputs": [
    {
     "name": "stdout",
     "output_type": "stream",
     "text": [
      "True\n"
     ]
    }
   ],
   "source": [
    "num = 12000\n",
    "is_large = large_num(num)\n",
    "print(is_large) "
   ]
  },
  {
   "cell_type": "code",
   "execution_count": 6,
   "id": "1ab0bcfb",
   "metadata": {},
   "outputs": [
    {
     "name": "stdout",
     "output_type": "stream",
     "text": [
      "False\n"
     ]
    }
   ],
   "source": [
    "num = 9000\n",
    "is_large = large_num(num)\n",
    "print(is_large)"
   ]
  },
  {
   "cell_type": "markdown",
   "id": "01e52c8f",
   "metadata": {},
   "source": [
    "# Exercise 3.9"
   ]
  },
  {
   "cell_type": "code",
   "execution_count": 3,
   "id": "55270818",
   "metadata": {},
   "outputs": [],
   "source": [
    "print(\"Think of a number between 1 and 100 , but don't tell mw what you choose\")\n",
    "min_n = 1\n",
    "max_n =100\n",
    "right_answer =False\n",
    "\n",
    "while not right_answer:\n",
    "    mid_n =(max_n + min_n +1)/2\n",
    "    answer =raw_input(\"Is it\" + str(mid_n)+ \"?\")\n",
    "    if answer[0]=='y':\n",
    "        right_answer=True \n",
    "    elif answer.startswith('higher'):\n",
    "        min_n =mid_n +1\n",
    "    elif answer.startswith('lower'):\n",
    "        max_n =mid_n -1\n",
    "    else:\n",
    "        print (\" Sorry, I dont understand your answer.\")\n",
    "print (\"Woohoo, I got it \")"
   ]
  },
  {
   "cell_type": "code",
   "execution_count": null,
   "id": "74f15752",
   "metadata": {},
   "outputs": [],
   "source": [
    "Ques 1: The while loop exits when the variable right_answer is true. What will cause right_answer to be true?"
   ]
  },
  {
   "cell_type": "code",
   "execution_count": null,
   "id": "e600c31c",
   "metadata": {},
   "outputs": [],
   "source": [
    "if answer[0] == 'y':\n",
    "    right_answer = True\n",
    "Above code indicates guessed number is correct, the right_answer sets to be true , loop exits.   "
   ]
  },
  {
   "cell_type": "code",
   "execution_count": null,
   "id": "6e409ac6",
   "metadata": {},
   "outputs": [],
   "source": [
    "Ques 2: How many times will the program print \"Woohoo, I got it \""
   ]
  },
  {
   "cell_type": "code",
   "execution_count": null,
   "id": "40b1524e",
   "metadata": {},
   "outputs": [],
   "source": [
    "The code will print \"Woohoo, I got it\" once when the program successfully guesses the number chosen by the user."
   ]
  },
  {
   "cell_type": "code",
   "execution_count": null,
   "id": "8f1f2bf1",
   "metadata": {},
   "outputs": [],
   "source": [
    "Ques 3: The program makes a guess in line 8. \n",
    "       What user responses will be understood ny the program after it makes  its guess?"
   ]
  },
  {
   "cell_type": "code",
   "execution_count": null,
   "id": "8a6ce8f3",
   "metadata": {},
   "outputs": [],
   "source": [
    "The program makes a guess in line 8 by displaying the value of mid_n to the user. \n",
    "After the guess is made, the program expects specific user responses to understand whether the guess was correct or needs to be adjusted. "
   ]
  },
  {
   "cell_type": "code",
   "execution_count": null,
   "id": "1269eb07",
   "metadata": {},
   "outputs": [],
   "source": [
    "Ques 4:If the program gets the response 'higher'. What does that tell it about its guess?"
   ]
  },
  {
   "cell_type": "code",
   "execution_count": null,
   "id": "b6dedc3c",
   "metadata": {},
   "outputs": [],
   "source": [
    "It indicates previous guess was too low"
   ]
  },
  {
   "cell_type": "code",
   "execution_count": null,
   "id": "e17e3901",
   "metadata": {},
   "outputs": [],
   "source": [
    "Ques 5 :What are the variables min_n and mid_n used for "
   ]
  },
  {
   "cell_type": "code",
   "execution_count": null,
   "id": "f2b0aa01",
   "metadata": {},
   "outputs": [],
   "source": [
    "min_n represents the minimum value in the range, and mid_n is the calculated midpoint value used for guessing and narrowing down the range during each iteration of the while loop."
   ]
  },
  {
   "cell_type": "markdown",
   "id": "4db1615e",
   "metadata": {},
   "source": [
    "# Exercise 3.10 "
   ]
  },
  {
   "cell_type": "code",
   "execution_count": null,
   "id": "e91e3df1",
   "metadata": {},
   "outputs": [],
   "source": [
    "Ques 1 : What is difference between a local variable an an object's attribute?"
   ]
  },
  {
   "cell_type": "code",
   "execution_count": null,
   "id": "467f7aff",
   "metadata": {},
   "outputs": [],
   "source": [
    "A local variable is a variable declared and defined within a specific block of code, such as a function or method.\n",
    "It is accessible and usable only within that particular block.\n",
    "Once the execution of the block ends, the local variable goes out of scope and cannot be accessed anymore\n",
    "Local variables are typically used for temporary storage or calculations within a specific context.\n",
    "\n",
    "\n",
    "An object's attribute is a variable that is associated with an instance of a class or an object.\n",
    "It represents the characteristics or properties of that specific object. \n",
    "Object attributes are accessible throughout the object's lifetime and can be accessed and modified by methods or functions related to the object. \n",
    "Object attributes are used to store and manage data that is specific to each instance of the class."
   ]
  },
  {
   "cell_type": "code",
   "execution_count": null,
   "id": "12825646",
   "metadata": {},
   "outputs": [],
   "source": [
    "Ques 2: What method is called when the object is created?"
   ]
  },
  {
   "cell_type": "code",
   "execution_count": null,
   "id": "4b80dd9c",
   "metadata": {},
   "outputs": [],
   "source": [
    "In object-oriented programming, the method called when an object is created is the constructor method. \n",
    "The constructor is a special method defined within a class that is automatically executed when a new instance of the class is created."
   ]
  },
  {
   "cell_type": "code",
   "execution_count": null,
   "id": "7154daef",
   "metadata": {},
   "outputs": [],
   "source": [
    "Ques 3: If you have an object instance , obj, and you want to call its do_something() method(assuming it has one), how would you do this by lines of codes"
   ]
  },
  {
   "cell_type": "code",
   "execution_count": null,
   "id": "0e753fcf",
   "metadata": {},
   "outputs": [],
   "source": [
    "To call the do_something() method of an object instance obj, we can use the following line of code:\n",
    "\n",
    "\n",
    "obj.do_something()\n",
    "This line of code invokes the do_something() method on the obj instance, executing the code within that method. \n",
    "The parentheses () are used to indicate a method call.\n",
    "\n",
    "class MyClass:\n",
    "    def do_something(self):\n",
    "        print(\"Its python assignment!\")\n",
    "\n",
    "# Creating an instance of MyClass\n",
    "obj = MyClass()\n",
    "\n",
    "# Calling the do_something() method on the obj instance\n",
    "obj.do_something()"
   ]
  },
  {
   "cell_type": "markdown",
   "id": "c43e77bd",
   "metadata": {},
   "source": [
    "# Exercise 3.11"
   ]
  },
  {
   "cell_type": "code",
   "execution_count": null,
   "id": "10107e21",
   "metadata": {},
   "outputs": [],
   "source": [
    "QUES 1 : Write a class address that has two attributes: number and street_name. Make sure to have __init__method that \n",
    "        initializes the object appropriately\n",
    "        \n",
    "Ans:\n",
    "    \n",
    "class Address:\n",
    "    def _init_(self, number, street_name):\n",
    "        self.number = number\n",
    "        self.street_name = street_name\n",
    "\n",
    "address = Address(320, \"Pune Camp\")\n",
    "\n",
    "print(address.number)  \n",
    "print(address.street_name)  "
   ]
  },
  {
   "cell_type": "code",
   "execution_count": null,
   "id": "d927710c",
   "metadata": {},
   "outputs": [],
   "source": [
    "# Ques 2:\n",
    "    \n",
    "class Clock:\n",
    "    def__init__(self,time):\n",
    "        self.time=time\n",
    "    def print_time(self):\n",
    "        time='6:30'\n",
    "        print(self.time)\n",
    "\n",
    "# a. What does the code print out?\n",
    "# b. Is that what you expected? why?\n",
    "\n",
    "Ans: \n",
    "\n",
    "    clock=Clock(\"10:30\")\n",
    "clock.print_time()\n",
    "\n",
    "    The code will print \"10:30\"\n",
    "    Expected was \"6:30\" but 'self.time' is printed , which is value of time attribute of 'clock' object.\n",
    "    "
   ]
  },
  {
   "cell_type": "code",
   "execution_count": null,
   "id": "aa293b21",
   "metadata": {},
   "outputs": [],
   "source": [
    "Ques 3:\n",
    "\n",
    "class Clock:\n",
    "    def__init__(self,time):\n",
    "        self.time=time\n",
    "    def print_time(self,time):\n",
    "        print time\n",
    "clock=Clock(\"5:30\")\n",
    "clock.print_time('10:30')\n",
    "\n",
    "a. What does the code print out?\n",
    "b. what does this tell you about giving parameters the same name as object attributes?\n",
    "\n",
    "Ans:\n",
    "    The code will print \"10:30\" , which is the value of the parameter passed to print_time() method.\n",
    "    When a parameter has the same name as an attribute, it creates ambiguity within the method, and the local parameter takes precedence over the object attribute."
   ]
  },
  {
   "cell_type": "code",
   "execution_count": null,
   "id": "954c8a4b",
   "metadata": {},
   "outputs": [],
   "source": [
    "Ques 4:\n",
    "\n",
    "class Clock:\n",
    "    def__init__(self,time):\n",
    "        self.time=time\n",
    "    def print_time(self):\n",
    "        print self.time\n",
    "boston_clock=Clock(\"5:30\")\n",
    "paris_clock =boston_clock\n",
    "paris_clock.time ='10:30'\n",
    "boston_clock.print_time()\n",
    "\n",
    "a. What does the code print out?\n",
    "b. why does it print what it does?\n",
    "   Are boston_clock and paris_clock different objects? Why or Why not? \n",
    "    \n",
    "    \n",
    "Ans:\n",
    "    when boston_clock.print_time() is called, it prints '10:30' because the time attribute of the shared object has been modified to '10:30' using the paris_clock reference.\n",
    "    \n",
    "    boston_clock and paris_clock are not different objects. They are references to the same underlying object in memory."
   ]
  },
  {
   "cell_type": "code",
   "execution_count": null,
   "id": "13ea8b9c",
   "metadata": {},
   "outputs": [],
   "source": []
  }
 ],
 "metadata": {
  "kernelspec": {
   "display_name": "Python 3",
   "language": "python",
   "name": "python3"
  },
  "language_info": {
   "codemirror_mode": {
    "name": "ipython",
    "version": 3
   },
   "file_extension": ".py",
   "mimetype": "text/x-python",
   "name": "python",
   "nbconvert_exporter": "python",
   "pygments_lexer": "ipython3",
   "version": "3.8.8"
  }
 },
 "nbformat": 4,
 "nbformat_minor": 5
}
